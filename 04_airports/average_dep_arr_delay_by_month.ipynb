{
 "cells": [
  {
   "cell_type": "code",
   "execution_count": null,
   "metadata": {
    "ExecuteTime": {
     "end_time": "2020-06-23T06:32:56.763851Z",
     "start_time": "2020-06-23T06:32:55.763507Z"
    }
   },
   "outputs": [],
   "source": [
    "import pandas as pd"
   ]
  },
  {
   "cell_type": "code",
   "execution_count": null,
   "metadata": {
    "ExecuteTime": {
     "end_time": "2020-06-23T06:36:35.641995Z",
     "start_time": "2020-06-23T06:36:35.602171Z"
    }
   },
   "outputs": [],
   "source": [
    "df=pd.read_csv('average_delay.csv', sep='\\t', names=['month', 'to_split'])\n",
    "df[['dep_delay', 'arr_delay']]=df.to_split.str[1:-1].str.split(', ').apply(pd.Series)\n",
    "df=df.drop(columns='to_split')\n",
    "df"
   ]
  },
  {
   "cell_type": "code",
   "execution_count": null,
   "metadata": {
    "ExecuteTime": {
     "end_time": "2020-06-23T06:37:13.863409Z",
     "start_time": "2020-06-23T06:37:13.743472Z"
    }
   },
   "outputs": [],
   "source": [
    "import plotly.express as px\n"
   ]
  },
  {
   "cell_type": "code",
   "execution_count": null,
   "metadata": {
    "ExecuteTime": {
     "end_time": "2020-06-23T06:38:29.243300Z",
     "start_time": "2020-06-23T06:38:29.143204Z"
    }
   },
   "outputs": [],
   "source": [
    "fig=px.bar(df, x='month', y='dep_delay', color='month')\n",
    "fig.show()"
   ]
  },
  {
   "cell_type": "code",
   "execution_count": null,
   "metadata": {
    "ExecuteTime": {
     "end_time": "2020-06-23T06:38:40.723076Z",
     "start_time": "2020-06-23T06:38:40.633131Z"
    }
   },
   "outputs": [],
   "source": [
    "fig=px.bar(df, x='month', y='arr_delay', color='month')\n",
    "fig.show()"
   ]
  },
  {
   "cell_type": "code",
   "execution_count": null,
   "metadata": {
    "ExecuteTime": {
     "end_time": "2020-06-23T06:40:00.843423Z",
     "start_time": "2020-06-23T06:40:00.823179Z"
    }
   },
   "outputs": [],
   "source": [
    "import plotly.graph_objects as go"
   ]
  },
  {
   "cell_type": "code",
   "execution_count": null,
   "metadata": {
    "ExecuteTime": {
     "end_time": "2020-06-23T06:44:55.482678Z",
     "start_time": "2020-06-23T06:44:55.452798Z"
    }
   },
   "outputs": [],
   "source": [
    "fig=go.Figure(data=[go.Bar(x=df.month, y=df.dep_delay, name='departure delay', marker_color='#6827d1'),\n",
    "                   go.Bar(x=df.month, y=df.arr_delay, name='arrival delay', marker_color='#ff2e17')],\n",
    "                layout=go.Layout(title='Averege Dep and Arr Delay by Month USA 2015'))\n",
    "fig.show()"
   ]
  },
  {
   "cell_type": "code",
   "execution_count": null,
   "metadata": {},
   "outputs": [],
   "source": []
  }
 ],
 "metadata": {
  "kernelspec": {
   "display_name": "Python 3",
   "language": "python",
   "name": "python3"
  },
  "language_info": {
   "codemirror_mode": {
    "name": "ipython",
    "version": 3
   },
   "file_extension": ".py",
   "mimetype": "text/x-python",
   "name": "python",
   "nbconvert_exporter": "python",
   "pygments_lexer": "ipython3",
   "version": "3.7.4"
  },
  "varInspector": {
   "cols": {
    "lenName": 16,
    "lenType": 16,
    "lenVar": 40
   },
   "kernels_config": {
    "python": {
     "delete_cmd_postfix": "",
     "delete_cmd_prefix": "del ",
     "library": "var_list.py",
     "varRefreshCmd": "print(var_dic_list())"
    },
    "r": {
     "delete_cmd_postfix": ") ",
     "delete_cmd_prefix": "rm(",
     "library": "var_list.r",
     "varRefreshCmd": "cat(var_dic_list()) "
    }
   },
   "types_to_exclude": [
    "module",
    "function",
    "builtin_function_or_method",
    "instance",
    "_Feature"
   ],
   "window_display": false
  }
 },
 "nbformat": 4,
 "nbformat_minor": 2
}
